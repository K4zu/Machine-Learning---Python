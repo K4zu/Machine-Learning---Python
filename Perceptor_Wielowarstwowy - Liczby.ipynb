{
  "nbformat": 4,
  "nbformat_minor": 0,
  "metadata": {
    "colab": {
      "name": "Perceptor Wielowarstwowy.ipynb",
      "provenance": [],
      "include_colab_link": true
    },
    "kernelspec": {
      "name": "python3",
      "display_name": "Python 3"
    }
  },
  "cells": [
    {
      "cell_type": "markdown",
      "metadata": {
        "id": "view-in-github",
        "colab_type": "text"
      },
      "source": [
        "<a href=\"https://colab.research.google.com/github/K4zu/Machine-Learning---Python/blob/master/Perceptor_Wielowarstwowy%20-%20Liczby.ipynb\" target=\"_parent\"><img src=\"https://colab.research.google.com/assets/colab-badge.svg\" alt=\"Open In Colab\"/></a>"
      ]
    },
    {
      "cell_type": "code",
      "metadata": {
        "id": "8rINI2q5soMQ",
        "colab_type": "code",
        "colab": {}
      },
      "source": [
        "import keras\n",
        "from keras.datasets import mnist ## importowanie zestwu danych -> liczby 28 x 28\n",
        "from keras.models import Sequential ## pozwala budowac modele sekwencyjne tak jak ukladanie na stosie\n",
        "from keras.layers import Dense ## importowanie warstwy gestej warstwy, ktore stanowia nasz model\n",
        "from keras.optimizers import RMSprop ## optymalizator "
      ],
      "execution_count": 0,
      "outputs": []
    },
    {
      "cell_type": "markdown",
      "metadata": {
        "id": "zljw9K46ytg5",
        "colab_type": "text"
      },
      "source": [
        "## Załadowanie danych"
      ]
    },
    {
      "cell_type": "code",
      "metadata": {
        "id": "XhE1BH3zyAN4",
        "colab_type": "code",
        "colab": {}
      },
      "source": [
        "(X_train, y_train), (X_test, y_test) = mnist.load_data()"
      ],
      "execution_count": 0,
      "outputs": []
    },
    {
      "cell_type": "markdown",
      "metadata": {
        "id": "6egCI4QdzO81",
        "colab_type": "text"
      },
      "source": [
        "## Eksploaracja danych"
      ]
    },
    {
      "cell_type": "code",
      "metadata": {
        "id": "nEH0aAFNy9o6",
        "colab_type": "code",
        "colab": {
          "base_uri": "https://localhost:8080/",
          "height": 134
        },
        "outputId": "e56c2440-5fd8-4bf0-b1eb-337d9d9a3487"
      },
      "source": [
        "print(X_train.shape)\n",
        "print(X_test.shape)\n",
        "print(y_train.shape)\n",
        "print(y_test.shape)\n",
        "\n",
        "print('Liczba dabych treningowych:', X_train.shape[0])\n",
        "print('Liczba danych testowych:', X_test.shape[0])\n",
        "print('Rozmiar pojedynczego obrazka:', X_train[0].shape)\n"
      ],
      "execution_count": 100,
      "outputs": [
        {
          "output_type": "stream",
          "text": [
            "(60000, 28, 28)\n",
            "(10000, 28, 28)\n",
            "(60000,)\n",
            "(10000,)\n",
            "Liczba dabych treningowych: 60000\n",
            "Liczba danych testowych: 10000\n",
            "Rozmiar pojedynczego obrazka: (28, 28)\n"
          ],
          "name": "stdout"
        }
      ]
    },
    {
      "cell_type": "code",
      "metadata": {
        "id": "ePfSqoL80RVW",
        "colab_type": "code",
        "colab": {
          "base_uri": "https://localhost:8080/",
          "height": 265
        },
        "outputId": "8db14bcf-6116-4a88-e92e-ef8179594288"
      },
      "source": [
        "import matplotlib.pyplot as plt\n",
        "\n",
        "plt.imshow(X_train[0], cmap='Greys')\n",
        "plt.axis('off')"
      ],
      "execution_count": 101,
      "outputs": [
        {
          "output_type": "execute_result",
          "data": {
            "text/plain": [
              "(-0.5, 27.5, 27.5, -0.5)"
            ]
          },
          "metadata": {
            "tags": []
          },
          "execution_count": 101
        },
        {
          "output_type": "display_data",
          "data": {
            "image/png": "[encoded data removed]",
            "text/plain": [
              "<Figure size 432x288 with 1 Axes>"
            ]
          },
          "metadata": {
            "tags": []
          }
        }
      ]
    },
    {
      "cell_type": "markdown",
      "metadata": {
        "id": "pZAMDzOC1Gtf",
        "colab_type": "text"
      },
      "source": [
        "## Wyswietlanie kilku obrazkow"
      ]
    },
    {
      "cell_type": "code",
      "metadata": {
        "id": "2_WtmhL21D1u",
        "colab_type": "code",
        "colab": {
          "base_uri": "https://localhost:8080/",
          "height": 92
        },
        "outputId": "909807b7-12b9-443d-a335-27a7ed1e7043"
      },
      "source": [
        "plt.figure(figsize=(13, 13))\n",
        "for i in range(1, 11):\n",
        "    plt.subplot(1, 10, i)\n",
        "    plt.axis('off')\n",
        "    plt.imshow(X_train[i], cmap='Greys')\n",
        "plt.show()"
      ],
      "execution_count": 102,
      "outputs": [
        {
          "output_type": "display_data",
          "data": {
            "image/png": "[encoded data removed]",
            "text/plain": [
              "<Figure size 936x936 with 10 Axes>"
            ]
          },
          "metadata": {
            "tags": []
          }
        }
      ]
    },
    {
      "cell_type": "markdown",
      "metadata": {
        "id": "czvCj4b312j6",
        "colab_type": "text"
      },
      "source": [
        "### Przygotowanie danych"
      ]
    },
    {
      "cell_type": "code",
      "metadata": {
        "id": "ynPtZs1n1091",
        "colab_type": "code",
        "colab": {
          "base_uri": "https://localhost:8080/",
          "height": 50
        },
        "outputId": "90ebfa1c-c7e4-41e3-e4aa-c71cd32cb38f"
      },
      "source": [
        "X_train = X_train.reshape(60000, 28*28)\n",
        "X_test = X_test.reshape(10000, 28*28)\n",
        "\n",
        "X_train = X_train.astype('float32')\n",
        "X_test = X_test.astype('float32')\n",
        "\n",
        "X_train /= 255\n",
        "X_test /= 255\n",
        "\n",
        "print(X_train.shape)\n",
        "print(X_test.shape)"
      ],
      "execution_count": 103,
      "outputs": [
        {
          "output_type": "stream",
          "text": [
            "(60000, 784)\n",
            "(10000, 784)\n"
          ],
          "name": "stdout"
        }
      ]
    },
    {
      "cell_type": "code",
      "metadata": {
        "id": "xFjoC9vQ3WzV",
        "colab_type": "code",
        "colab": {}
      },
      "source": [
        "y_train = keras.utils.to_categorical(y_train, num_classes=10)\n",
        "y_test = keras.utils.to_categorical(y_test, num_classes=10)"
      ],
      "execution_count": 0,
      "outputs": []
    },
    {
      "cell_type": "markdown",
      "metadata": {
        "id": "vKUZjnGf6TuY",
        "colab_type": "text"
      },
      "source": [
        "## Budowa modelu"
      ]
    },
    {
      "cell_type": "code",
      "metadata": {
        "id": "_PSj5PIj4z01",
        "colab_type": "code",
        "colab": {
          "base_uri": "https://localhost:8080/",
          "height": 252
        },
        "outputId": "5d801ce7-abf6-4a1b-d4fc-0055db501e2c"
      },
      "source": [
        "model = Sequential()\n",
        "model.add(Dense(units=512, activation='relu', input_shape=(28*28,))) ## dodawanie warstwy \n",
        "model.add(Dense(units=512, activation='relu')) ## warstwa ukryta\n",
        "model.add(Dense(units=10, activation='softmax')) ## warstwa wyjsciowa, nie relu, chcemy aby zwrcilo nam prawdopodobienstwo poszczegolnych klas, nie sigmoid, bo mamy tych klas wiecej niz 2(czyli przyklad nie binarny)\n",
        "\n",
        "model.summary()"
      ],
      "execution_count": 105,
      "outputs": [
        {
          "output_type": "stream",
          "text": [
            "Model: \"sequential_6\"\n",
            "_________________________________________________________________\n",
            "Layer (type)                 Output Shape              Param #   \n",
            "=================================================================\n",
            "dense_16 (Dense)             (None, 512)               401920    \n",
            "_________________________________________________________________\n",
            "dense_17 (Dense)             (None, 512)               262656    \n",
            "_________________________________________________________________\n",
            "dense_18 (Dense)             (None, 10)                5130      \n",
            "=================================================================\n",
            "Total params: 669,706\n",
            "Trainable params: 669,706\n",
            "Non-trainable params: 0\n",
            "_________________________________________________________________\n"
          ],
          "name": "stdout"
        }
      ]
    },
    {
      "cell_type": "code",
      "metadata": {
        "id": "9biPZwgI818n",
        "colab_type": "code",
        "colab": {}
      },
      "source": [
        "model.compile(optimizer=RMSprop(),\n",
        "              loss='categorical_crossentropy',\n",
        "              metrics=['accuracy'])"
      ],
      "execution_count": 0,
      "outputs": []
    },
    {
      "cell_type": "markdown",
      "metadata": {
        "id": "DXHiPG1L9PuF",
        "colab_type": "text"
      },
      "source": [
        "## Trenowanie"
      ]
    },
    {
      "cell_type": "code",
      "metadata": {
        "id": "UYf67dt_9OfE",
        "colab_type": "code",
        "colab": {
          "base_uri": "https://localhost:8080/",
          "height": 706
        },
        "outputId": "750a2072-3caa-4807-eb9d-f02aaf209ea1"
      },
      "source": [
        "history = model.fit(X_train, y_train, batch_size=128, epochs=20, validation_data=(X_test, y_test))"
      ],
      "execution_count": 108,
      "outputs": [
        {
          "output_type": "stream",
          "text": [
            "Train on 60000 samples, validate on 10000 samples\n",
            "Epoch 1/20\n",
            "60000/60000 [==============================] - 7s 124us/step - loss: 0.0073 - acc: 0.9982 - val_loss: 0.1293 - val_acc: 0.9843\n",
            "Epoch 2/20\n",
            "60000/60000 [==============================] - 7s 123us/step - loss: 0.0074 - acc: 0.9983 - val_loss: 0.1524 - val_acc: 0.9815\n",
            "Epoch 3/20\n",
            "60000/60000 [==============================] - 7s 123us/step - loss: 0.0041 - acc: 0.9991 - val_loss: 0.1651 - val_acc: 0.9825\n",
            "Epoch 4/20\n",
            "60000/60000 [==============================] - 7s 122us/step - loss: 0.0053 - acc: 0.9989 - val_loss: 0.1585 - val_acc: 0.9832\n",
            "Epoch 5/20\n",
            "60000/60000 [==============================] - 7s 123us/step - loss: 0.0060 - acc: 0.9988 - val_loss: 0.1489 - val_acc: 0.9823\n",
            "Epoch 6/20\n",
            "60000/60000 [==============================] - 7s 123us/step - loss: 0.0033 - acc: 0.9992 - val_loss: 0.1537 - val_acc: 0.9831\n",
            "Epoch 7/20\n",
            "60000/60000 [==============================] - 7s 122us/step - loss: 0.0044 - acc: 0.9991 - val_loss: 0.1497 - val_acc: 0.9842\n",
            "Epoch 8/20\n",
            "60000/60000 [==============================] - 7s 123us/step - loss: 0.0038 - acc: 0.9992 - val_loss: 0.1748 - val_acc: 0.9814\n",
            "Epoch 9/20\n",
            "60000/60000 [==============================] - 7s 125us/step - loss: 0.0042 - acc: 0.9991 - val_loss: 0.1970 - val_acc: 0.9797\n",
            "Epoch 10/20\n",
            "60000/60000 [==============================] - 8s 128us/step - loss: 0.0049 - acc: 0.9989 - val_loss: 0.1673 - val_acc: 0.9829\n",
            "Epoch 11/20\n",
            "60000/60000 [==============================] - 7s 123us/step - loss: 0.0040 - acc: 0.9991 - val_loss: 0.1568 - val_acc: 0.9832\n",
            "Epoch 12/20\n",
            "60000/60000 [==============================] - 7s 123us/step - loss: 0.0045 - acc: 0.9991 - val_loss: 0.1689 - val_acc: 0.9835\n",
            "Epoch 13/20\n",
            "60000/60000 [==============================] - 7s 122us/step - loss: 0.0055 - acc: 0.9988 - val_loss: 0.1647 - val_acc: 0.9835\n",
            "Epoch 14/20\n",
            "60000/60000 [==============================] - 7s 124us/step - loss: 0.0049 - acc: 0.9989 - val_loss: 0.1766 - val_acc: 0.9821\n",
            "Epoch 15/20\n",
            "60000/60000 [==============================] - 7s 123us/step - loss: 0.0040 - acc: 0.9990 - val_loss: 0.1559 - val_acc: 0.9849\n",
            "Epoch 16/20\n",
            "60000/60000 [==============================] - 7s 123us/step - loss: 0.0033 - acc: 0.9994 - val_loss: 0.1664 - val_acc: 0.9829\n",
            "Epoch 17/20\n",
            "60000/60000 [==============================] - 7s 123us/step - loss: 0.0029 - acc: 0.9995 - val_loss: 0.1729 - val_acc: 0.9839\n",
            "Epoch 18/20\n",
            "60000/60000 [==============================] - 7s 124us/step - loss: 0.0046 - acc: 0.9992 - val_loss: 0.1622 - val_acc: 0.9829\n",
            "Epoch 19/20\n",
            "60000/60000 [==============================] - 7s 122us/step - loss: 0.0027 - acc: 0.9994 - val_loss: 0.1734 - val_acc: 0.9838\n",
            "Epoch 20/20\n",
            "60000/60000 [==============================] - 7s 123us/step - loss: 0.0030 - acc: 0.9995 - val_loss: 0.1704 - val_acc: 0.9836\n"
          ],
          "name": "stdout"
        }
      ]
    },
    {
      "cell_type": "code",
      "metadata": {
        "id": "O3XcoD0QCA9b",
        "colab_type": "code",
        "colab": {
          "base_uri": "https://localhost:8080/",
          "height": 50
        },
        "outputId": "5b7c51b7-965e-476d-cec9-e2bcfcae8281"
      },
      "source": [
        "model.evaluate(X_test, y_test)"
      ],
      "execution_count": 109,
      "outputs": [
        {
          "output_type": "stream",
          "text": [
            "10000/10000 [==============================] - 1s 69us/step\n"
          ],
          "name": "stdout"
        },
        {
          "output_type": "execute_result",
          "data": {
            "text/plain": [
              "[0.17042642689976373, 0.9836]"
            ]
          },
          "metadata": {
            "tags": []
          },
          "execution_count": 109
        }
      ]
    },
    {
      "cell_type": "markdown",
      "metadata": {
        "id": "w4lXjuQROg21",
        "colab_type": "text"
      },
      "source": [
        "## Analiza wynikow"
      ]
    },
    {
      "cell_type": "code",
      "metadata": {
        "id": "HRWACh8XOTug",
        "colab_type": "code",
        "colab": {}
      },
      "source": [
        "def make_accuracy_plot(history):\n",
        "    \"\"\"\n",
        "    Funkcja zwraca wykres dokładności (accuracy) modelu na zbiorze treningowym\n",
        "    i walidacyjnym.\n",
        "    \"\"\"\n",
        "    import matplotlib.pyplot as plt\n",
        "    import seaborn as sns\n",
        "    sns.set()\n",
        "    acc, val_acc = history.history['acc'], history.history['val_acc']\n",
        "    epochs = range(1, len(acc) + 1)\n",
        "\n",
        "    plt.figure(figsize=(10, 8))\n",
        "    plt.plot(epochs, acc, label='Dokładność trenowania', marker='o')\n",
        "    plt.plot(epochs, val_acc, label='Dokładność walidacji', marker='o')\n",
        "    plt.legend()\n",
        "    plt.title('Dokładność trenowania i walidacji')\n",
        "    plt.xlabel('Epoki')\n",
        "    plt.ylabel('Dokładność')\n",
        "    plt.show()\n",
        "\n",
        "def make_loss_plot(history):\n",
        "    \"\"\"\n",
        "    Funkcja zwraca wykres straty (loss) modelu na zbiorze treningowym\n",
        "    i walidacyjnym.\n",
        "    \"\"\"\n",
        "    import matplotlib.pyplot as plt\n",
        "    import seaborn as sns\n",
        "    sns.set()\n",
        "    loss, val_loss = history.history['loss'], history.history['val_loss']\n",
        "    epochs = range(1, len(loss) + 1)\n",
        "    \n",
        "    plt.figure(figsize=(10, 8))\n",
        "    plt.plot(epochs, loss, label='Strata trenowania', marker='o')\n",
        "    plt.plot(epochs, val_loss, label='Strata walidacji', marker='o')\n",
        "    plt.legend()\n",
        "    plt.title('Strata trenowania i walidacji')\n",
        "    plt.xlabel('Epoki')\n",
        "    plt.ylabel('Strata')\n",
        "    plt.show()"
      ],
      "execution_count": 0,
      "outputs": []
    },
    {
      "cell_type": "code",
      "metadata": {
        "id": "QQmgyl0OPM6O",
        "colab_type": "code",
        "colab": {}
      },
      "source": [
        "make_accuracy_plot(history)"
      ],
      "execution_count": 0,
      "outputs": []
    },
    {
      "cell_type": "code",
      "metadata": {
        "id": "wJD8SLxxPQFd",
        "colab_type": "code",
        "colab": {}
      },
      "source": [
        "make_loss_plot(history)"
      ],
      "execution_count": 0,
      "outputs": []
    }
  ]
}