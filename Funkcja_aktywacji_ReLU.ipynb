{
  "nbformat": 4,
  "nbformat_minor": 0,
  "metadata": {
    "colab": {
      "name": "Funkcja_aktywacji_ReLU.ipynb",
      "provenance": [],
      "collapsed_sections": [],
      "include_colab_link": true
    },
    "kernelspec": {
      "name": "python3",
      "display_name": "Python 3"
    }
  },
  "cells": [
    {
      "cell_type": "markdown",
      "metadata": {
        "id": "view-in-github",
        "colab_type": "text"
      },
      "source": [
        "<a href=\"https://colab.research.google.com/github/K4zu/Machine-Learning---Python/blob/master/Funkcja_aktywacji_ReLU.ipynb\" target=\"_parent\"><img src=\"https://colab.research.google.com/assets/colab-badge.svg\" alt=\"Open In Colab\"/></a>"
      ]
    },
    {
      "cell_type": "markdown",
      "metadata": {
        "id": "AhZEGxkA4XaC",
        "colab_type": "text"
      },
      "source": [
        "## Funkcje Aktywacji\n",
        "### ReLU Function\n",
        "\n",
        "$f(x) = max(x, 0)$\n",
        "\n"
      ]
    },
    {
      "cell_type": "code",
      "metadata": {
        "id": "0jjudRX0seid",
        "colab_type": "code",
        "colab": {}
      },
      "source": [
        "import numpy as np #numerica python -> do obliczen numerycznych\n",
        "import matplotlib.pyplot as plt #do szkicowania wykresow\n",
        "import seaborn as sns #do edytowania wykresu -> wyglad wizualny\n",
        "sns.set() #ustawia tlo z biblioteki seaborn -> seaborn jest nakladka na bliblioteke matplotlib"
      ],
      "execution_count": 0,
      "outputs": []
    },
    {
      "cell_type": "code",
      "metadata": {
        "id": "sdRXBNMR6CwO",
        "colab_type": "code",
        "colab": {}
      },
      "source": [
        "def max_relu(x):\n",
        "    return max(x, 0)"
      ],
      "execution_count": 0,
      "outputs": []
    },
    {
      "cell_type": "code",
      "metadata": {
        "id": "Rq2t14oB6eJe",
        "colab_type": "code",
        "colab": {}
      },
      "source": [
        "for i in [-10, -5, 0, 5, 10]:\n",
        "    print(max_relu(i))"
      ],
      "execution_count": 0,
      "outputs": []
    },
    {
      "cell_type": "code",
      "metadata": {
        "id": "GU2RwtwI6s2U",
        "colab_type": "code",
        "colab": {}
      },
      "source": [
        "data = np.arange(-5, 5, 0.1)\n",
        "max_relu_data = [max_relu(x) for x in data]\n",
        "\n",
        "plt.plot(data, max_relu_data)\n",
        "plt.title(\"ReLU Func\")"
      ],
      "execution_count": 0,
      "outputs": []
    },
    {
      "cell_type": "markdown",
      "metadata": {
        "id": "9sGRLgKw8IEz",
        "colab_type": "text"
      },
      "source": [
        "## Funkcja Sigmoid\n",
        "\n",
        "$f(x) = \\frac{ 1 }{ 1+e^{-x} }\\quad$"
      ]
    },
    {
      "cell_type": "code",
      "metadata": {
        "id": "hLScOHty8H5e",
        "colab_type": "code",
        "colab": {}
      },
      "source": [
        "def sigmoid(x):\n",
        "    return 1.0/(1.0+np.exp(-x))"
      ],
      "execution_count": 0,
      "outputs": []
    },
    {
      "cell_type": "code",
      "metadata": {
        "id": "pW-JQ8a195vS",
        "colab_type": "code",
        "colab": {}
      },
      "source": [
        "for i in [-5, -3, -1, 0, 1, 3, 5]:\n",
        "    print(sigmoid(i))"
      ],
      "execution_count": 0,
      "outputs": []
    },
    {
      "cell_type": "code",
      "metadata": {
        "id": "r0ZvxsDD-Bqp",
        "colab_type": "code",
        "colab": {}
      },
      "source": [
        "sigmoid_data = [sigmoid(x) for x in data]\n",
        "plt.plot(data, sigmoid_data)\n",
        "plt.title(\"Fukcja Sigmoid\")"
      ],
      "execution_count": 0,
      "outputs": []
    },
    {
      "cell_type": "markdown",
      "metadata": {
        "id": "h7Yfsnpq_OQB",
        "colab_type": "text"
      },
      "source": [
        "## Funkcja Softamx -> stosowana do przewidywania kiedy mamy 3,4 i więcej klas do przewidzenia\n",
        "\n",
        "$S(y_{i})=\\frac{e^{y_{i}}}{\\Sigma^{i}_{j=1} e^{y_{i}}}$\n"
      ]
    },
    {
      "cell_type": "code",
      "metadata": {
        "id": "yyQqytqiBIhW",
        "colab_type": "code",
        "colab": {}
      },
      "source": [
        "data1 = np.random.randn(3,5)\n",
        "data1\n",
        "import pandas as pd ## Standaryzacja -> wyniki lepiej wygladaja\n",
        "df = pd.DataFrame(data1) ## Przedstawnie danych data jako obiekt klasy DataFrame\n",
        "df"
      ],
      "execution_count": 0,
      "outputs": []
    },
    {
      "cell_type": "code",
      "metadata": {
        "id": "eSQyTlpbCQbA",
        "colab_type": "code",
        "colab": {}
      },
      "source": [
        "np.exp(df) ## Dzialajac exponentem pozbywamy sie wartosci ujemnych i ultwia nam to analize danych -> to jest licznik"
      ],
      "execution_count": 0,
      "outputs": []
    },
    {
      "cell_type": "code",
      "metadata": {
        "id": "Z2H1gOszCT8s",
        "colab_type": "code",
        "colab": {}
      },
      "source": [
        "np.sum(np.exp(df), axis=0) ## axis = 0 -> sumowanie wartosci kolumn z wyzej -> to jest nasz mianownik w tej funkcji z poczatku"
      ],
      "execution_count": 0,
      "outputs": []
    },
    {
      "cell_type": "code",
      "metadata": {
        "id": "zNMVL28rCrzh",
        "colab_type": "code",
        "colab": {}
      },
      "source": [
        "res = np.exp(df) / np.sum(np.exp(df), axis=0)\n",
        "res ## To jest nasze prawdopodobienstwo"
      ],
      "execution_count": 0,
      "outputs": []
    },
    {
      "cell_type": "markdown",
      "metadata": {
        "id": "Ie_0IK4qEBh8",
        "colab_type": "text"
      },
      "source": [
        "## Fukcja Tan h\n",
        "\n",
        "$tanh(x) = \\frac{e^x-e^{-x}}{e^x+e^{-x}}$"
      ]
    },
    {
      "cell_type": "code",
      "metadata": {
        "id": "ckm0gyycEQiQ",
        "colab_type": "code",
        "colab": {}
      },
      "source": [
        "def tanh(x):\n",
        "    return (np.exp(x) - np.exp(-x)) / (np.exp(x) + np.exp(-x))"
      ],
      "execution_count": 0,
      "outputs": []
    },
    {
      "cell_type": "code",
      "metadata": {
        "id": "gqSRHu6CEmbE",
        "colab_type": "code",
        "colab": {}
      },
      "source": [
        "for i in [-2, -1, 0, 1, 2]:\n",
        "    print(tanh(i))"
      ],
      "execution_count": 0,
      "outputs": []
    },
    {
      "cell_type": "code",
      "metadata": {
        "id": "duccvBulFU1q",
        "colab_type": "code",
        "colab": {}
      },
      "source": [
        "tanh_data = [tanh(x) for x in data]\n",
        "\n",
        "plt.plot(data, tanh_data)\n",
        "plt.title(\"Funkcja Tanh\")"
      ],
      "execution_count": 0,
      "outputs": []
    }
  ]
}